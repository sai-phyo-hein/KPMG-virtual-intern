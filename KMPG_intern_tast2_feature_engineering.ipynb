{
  "nbformat": 4,
  "nbformat_minor": 0,
  "metadata": {
    "colab": {
      "name": "KMPG_intern_tast2_feature_engineering",
      "provenance": []
    },
    "kernelspec": {
      "name": "python3",
      "display_name": "Python 3"
    },
    "language_info": {
      "name": "python"
    }
  },
  "cells": [
    {
      "cell_type": "code",
      "metadata": {
        "id": "tPSWZSCrBlt5"
      },
      "source": [
        "import pandas as pd\n",
        "import numpy as np\n",
        "import matplotlib.pyplot as plt\n",
        "import seaborn as sns"
      ],
      "execution_count": null,
      "outputs": []
    },
    {
      "cell_type": "code",
      "metadata": {
        "id": "5inJgNXCD3d4"
      },
      "source": [
        "data = pd.read_csv(\"/content/drive/MyDrive/customer_segmenting_train.csv\")"
      ],
      "execution_count": null,
      "outputs": []
    },
    {
      "cell_type": "code",
      "metadata": {
        "colab": {
          "base_uri": "https://localhost:8080/",
          "height": 205
        },
        "id": "F7R0Sj3WEFqm",
        "outputId": "f0027d25-fcfe-4681-af05-30f5d8c37094"
      },
      "source": [
        "data.head()"
      ],
      "execution_count": null,
      "outputs": [
        {
          "output_type": "execute_result",
          "data": {
            "text/html": [
              "<div>\n",
              "<style scoped>\n",
              "    .dataframe tbody tr th:only-of-type {\n",
              "        vertical-align: middle;\n",
              "    }\n",
              "\n",
              "    .dataframe tbody tr th {\n",
              "        vertical-align: top;\n",
              "    }\n",
              "\n",
              "    .dataframe thead th {\n",
              "        text-align: right;\n",
              "    }\n",
              "</style>\n",
              "<table border=\"1\" class=\"dataframe\">\n",
              "  <thead>\n",
              "    <tr style=\"text-align: right;\">\n",
              "      <th></th>\n",
              "      <th>gender</th>\n",
              "      <th>past_3_years_bike_related_purchases</th>\n",
              "      <th>job_industry_category</th>\n",
              "      <th>wealth_segment</th>\n",
              "      <th>deceased_indicator</th>\n",
              "      <th>owns_car</th>\n",
              "      <th>tenure</th>\n",
              "      <th>customer_age</th>\n",
              "      <th>postcode</th>\n",
              "      <th>state</th>\n",
              "      <th>property_valuation</th>\n",
              "      <th>high_value</th>\n",
              "    </tr>\n",
              "  </thead>\n",
              "  <tbody>\n",
              "    <tr>\n",
              "      <th>0</th>\n",
              "      <td>Male</td>\n",
              "      <td>67</td>\n",
              "      <td>Retail</td>\n",
              "      <td>Affluent Customer</td>\n",
              "      <td>N</td>\n",
              "      <td>No</td>\n",
              "      <td>6.0</td>\n",
              "      <td>90.0</td>\n",
              "      <td>2000</td>\n",
              "      <td>NSW</td>\n",
              "      <td>10</td>\n",
              "      <td>y</td>\n",
              "    </tr>\n",
              "    <tr>\n",
              "      <th>1</th>\n",
              "      <td>Female</td>\n",
              "      <td>56</td>\n",
              "      <td>Retail</td>\n",
              "      <td>Mass Customer</td>\n",
              "      <td>N</td>\n",
              "      <td>No</td>\n",
              "      <td>5.0</td>\n",
              "      <td>86.0</td>\n",
              "      <td>3300</td>\n",
              "      <td>VIC</td>\n",
              "      <td>3</td>\n",
              "      <td>y</td>\n",
              "    </tr>\n",
              "    <tr>\n",
              "      <th>2</th>\n",
              "      <td>Female</td>\n",
              "      <td>93</td>\n",
              "      <td>Property</td>\n",
              "      <td>Mass Customer</td>\n",
              "      <td>N</td>\n",
              "      <td>No</td>\n",
              "      <td>16.0</td>\n",
              "      <td>81.0</td>\n",
              "      <td>2000</td>\n",
              "      <td>NSW</td>\n",
              "      <td>10</td>\n",
              "      <td>n</td>\n",
              "    </tr>\n",
              "    <tr>\n",
              "      <th>3</th>\n",
              "      <td>Male</td>\n",
              "      <td>27</td>\n",
              "      <td>Manufacturing</td>\n",
              "      <td>High Net Worth</td>\n",
              "      <td>N</td>\n",
              "      <td>Yes</td>\n",
              "      <td>17.0</td>\n",
              "      <td>78.0</td>\n",
              "      <td>3100</td>\n",
              "      <td>VIC</td>\n",
              "      <td>8</td>\n",
              "      <td>y</td>\n",
              "    </tr>\n",
              "    <tr>\n",
              "      <th>4</th>\n",
              "      <td>Male</td>\n",
              "      <td>38</td>\n",
              "      <td>Manufacturing</td>\n",
              "      <td>Affluent Customer</td>\n",
              "      <td>N</td>\n",
              "      <td>Yes</td>\n",
              "      <td>8.0</td>\n",
              "      <td>77.0</td>\n",
              "      <td>3000</td>\n",
              "      <td>VIC</td>\n",
              "      <td>9</td>\n",
              "      <td>n</td>\n",
              "    </tr>\n",
              "  </tbody>\n",
              "</table>\n",
              "</div>"
            ],
            "text/plain": [
              "   gender  past_3_years_bike_related_purchases  ... property_valuation high_value\n",
              "0    Male                                   67  ...                 10          y\n",
              "1  Female                                   56  ...                  3          y\n",
              "2  Female                                   93  ...                 10          n\n",
              "3    Male                                   27  ...                  8          y\n",
              "4    Male                                   38  ...                  9          n\n",
              "\n",
              "[5 rows x 12 columns]"
            ]
          },
          "metadata": {},
          "execution_count": 3
        }
      ]
    },
    {
      "cell_type": "code",
      "metadata": {
        "id": "4vUO2Wy-EUuk"
      },
      "source": [
        "test_data = pd.read_csv(\"/content/drive/MyDrive/customer_segmenting_test.csv\")"
      ],
      "execution_count": null,
      "outputs": []
    },
    {
      "cell_type": "code",
      "metadata": {
        "colab": {
          "base_uri": "https://localhost:8080/",
          "height": 205
        },
        "id": "tCcgIsu_lfSl",
        "outputId": "e65c64ab-890b-4b7c-c961-37e520ca5f6d"
      },
      "source": [
        "test_data.head()"
      ],
      "execution_count": null,
      "outputs": [
        {
          "output_type": "execute_result",
          "data": {
            "text/html": [
              "<div>\n",
              "<style scoped>\n",
              "    .dataframe tbody tr th:only-of-type {\n",
              "        vertical-align: middle;\n",
              "    }\n",
              "\n",
              "    .dataframe tbody tr th {\n",
              "        vertical-align: top;\n",
              "    }\n",
              "\n",
              "    .dataframe thead th {\n",
              "        text-align: right;\n",
              "    }\n",
              "</style>\n",
              "<table border=\"1\" class=\"dataframe\">\n",
              "  <thead>\n",
              "    <tr style=\"text-align: right;\">\n",
              "      <th></th>\n",
              "      <th>gender</th>\n",
              "      <th>past_3_years_bike_related_purchases</th>\n",
              "      <th>job_industry_category</th>\n",
              "      <th>wealth_segment</th>\n",
              "      <th>deceased_indicator</th>\n",
              "      <th>owns_car</th>\n",
              "      <th>tenure</th>\n",
              "      <th>customer_age</th>\n",
              "      <th>postcode</th>\n",
              "      <th>state</th>\n",
              "      <th>property_valuation</th>\n",
              "    </tr>\n",
              "  </thead>\n",
              "  <tbody>\n",
              "    <tr>\n",
              "      <th>0</th>\n",
              "      <td>Male</td>\n",
              "      <td>86</td>\n",
              "      <td>Manufacturing</td>\n",
              "      <td>Mass Customer</td>\n",
              "      <td>N</td>\n",
              "      <td>Yes</td>\n",
              "      <td>14</td>\n",
              "      <td>64.0</td>\n",
              "      <td>4500</td>\n",
              "      <td>QLD</td>\n",
              "      <td>6</td>\n",
              "    </tr>\n",
              "    <tr>\n",
              "      <th>1</th>\n",
              "      <td>Male</td>\n",
              "      <td>69</td>\n",
              "      <td>Property</td>\n",
              "      <td>Mass Customer</td>\n",
              "      <td>N</td>\n",
              "      <td>No</td>\n",
              "      <td>16</td>\n",
              "      <td>51.0</td>\n",
              "      <td>2100</td>\n",
              "      <td>NSW</td>\n",
              "      <td>11</td>\n",
              "    </tr>\n",
              "    <tr>\n",
              "      <th>2</th>\n",
              "      <td>Female</td>\n",
              "      <td>10</td>\n",
              "      <td>Financial Services</td>\n",
              "      <td>Affluent Customer</td>\n",
              "      <td>N</td>\n",
              "      <td>No</td>\n",
              "      <td>10</td>\n",
              "      <td>47.0</td>\n",
              "      <td>3500</td>\n",
              "      <td>VIC</td>\n",
              "      <td>5</td>\n",
              "    </tr>\n",
              "    <tr>\n",
              "      <th>3</th>\n",
              "      <td>Female</td>\n",
              "      <td>64</td>\n",
              "      <td>Manufacturing</td>\n",
              "      <td>Affluent Customer</td>\n",
              "      <td>N</td>\n",
              "      <td>Yes</td>\n",
              "      <td>5</td>\n",
              "      <td>42.0</td>\n",
              "      <td>4800</td>\n",
              "      <td>QLD</td>\n",
              "      <td>1</td>\n",
              "    </tr>\n",
              "    <tr>\n",
              "      <th>4</th>\n",
              "      <td>Female</td>\n",
              "      <td>34</td>\n",
              "      <td>Financial Services</td>\n",
              "      <td>Affluent Customer</td>\n",
              "      <td>N</td>\n",
              "      <td>No</td>\n",
              "      <td>19</td>\n",
              "      <td>56.0</td>\n",
              "      <td>2100</td>\n",
              "      <td>NSW</td>\n",
              "      <td>9</td>\n",
              "    </tr>\n",
              "  </tbody>\n",
              "</table>\n",
              "</div>"
            ],
            "text/plain": [
              "   gender  past_3_years_bike_related_purchases  ... state property_valuation\n",
              "0    Male                                   86  ...   QLD                  6\n",
              "1    Male                                   69  ...   NSW                 11\n",
              "2  Female                                   10  ...   VIC                  5\n",
              "3  Female                                   64  ...   QLD                  1\n",
              "4  Female                                   34  ...   NSW                  9\n",
              "\n",
              "[5 rows x 11 columns]"
            ]
          },
          "metadata": {},
          "execution_count": 5
        }
      ]
    },
    {
      "cell_type": "code",
      "metadata": {
        "id": "gljcGy_ePkaC"
      },
      "source": [
        "from sklearn.ensemble import GradientBoostingClassifier\n",
        "from sklearn import metrics\n",
        "from sklearn.model_selection import cross_val_score, GridSearchCV\n",
        "\n",
        "%matplotlib inline\n",
        "from matplotlib.pylab import rcParams \n",
        "\n",
        "rcParams['figure.figsize'] = 12, 4\n",
        "\n",
        "target = \"high_value\""
      ],
      "execution_count": null,
      "outputs": []
    },
    {
      "cell_type": "code",
      "metadata": {
        "colab": {
          "base_uri": "https://localhost:8080/"
        },
        "id": "DR5m1KdXnVa0",
        "outputId": "1760c364-e11d-49bc-b113-3cb6f597c87a"
      },
      "source": [
        "print(data.shape[0])"
      ],
      "execution_count": null,
      "outputs": [
        {
          "output_type": "stream",
          "text": [
            "3411\n"
          ],
          "name": "stdout"
        }
      ]
    },
    {
      "cell_type": "code",
      "metadata": {
        "id": "MdgPMwTOY_Zv"
      },
      "source": [
        "from sklearn.preprocessing import LabelEncoder, MinMaxScaler\n",
        "\n",
        "label_encoder = LabelEncoder()\n",
        "scaler = MinMaxScaler()\n",
        "\n",
        "encoding_data = pd.concat([data.iloc[:, :11], test_data.iloc[:, :11]], axis = 0)\n",
        "\n",
        "encoding_col = encoding_data.select_dtypes(include=object).columns\n",
        "normalizing_col = encoding_data.select_dtypes(exclude=object).columns\n",
        "\n",
        "for col in encoding_col:\n",
        "    label_encoder.fit(encoding_data[col])\n",
        "    encoding_data[col] = label_encoder.transform(encoding_data[col])\n",
        "\n",
        "for col in normalizing_col:\n",
        "    scaler.fit(encoding_data[col].values.reshape(-1, 1))\n",
        "    encoding_data[col] = scaler.transform(encoding_data[col].values.reshape(-1, 1))\n",
        "\n",
        "data[data.columns[0:11]] = encoding_data.iloc[:3411, :]\n",
        "test_data = encoding_data.iloc[3411:, : ]\n",
        "    "
      ],
      "execution_count": null,
      "outputs": []
    },
    {
      "cell_type": "code",
      "metadata": {
        "id": "Sg6K0f8qZ1xY"
      },
      "source": [
        "target_encoder = LabelEncoder()\n",
        "data[\"high_value\"] = target_encoder.fit_transform(data['high_value'])"
      ],
      "execution_count": null,
      "outputs": []
    },
    {
      "cell_type": "code",
      "metadata": {
        "colab": {
          "base_uri": "https://localhost:8080/",
          "height": 142
        },
        "id": "-Idnvy8-l9ek",
        "outputId": "eeed1281-d9af-407d-defa-3eb578be0b61"
      },
      "source": [
        "data.head(3)"
      ],
      "execution_count": null,
      "outputs": [
        {
          "output_type": "execute_result",
          "data": {
            "text/html": [
              "<div>\n",
              "<style scoped>\n",
              "    .dataframe tbody tr th:only-of-type {\n",
              "        vertical-align: middle;\n",
              "    }\n",
              "\n",
              "    .dataframe tbody tr th {\n",
              "        vertical-align: top;\n",
              "    }\n",
              "\n",
              "    .dataframe thead th {\n",
              "        text-align: right;\n",
              "    }\n",
              "</style>\n",
              "<table border=\"1\" class=\"dataframe\">\n",
              "  <thead>\n",
              "    <tr style=\"text-align: right;\">\n",
              "      <th></th>\n",
              "      <th>gender</th>\n",
              "      <th>past_3_years_bike_related_purchases</th>\n",
              "      <th>job_industry_category</th>\n",
              "      <th>wealth_segment</th>\n",
              "      <th>deceased_indicator</th>\n",
              "      <th>owns_car</th>\n",
              "      <th>tenure</th>\n",
              "      <th>customer_age</th>\n",
              "      <th>postcode</th>\n",
              "      <th>state</th>\n",
              "      <th>property_valuation</th>\n",
              "      <th>high_value</th>\n",
              "    </tr>\n",
              "  </thead>\n",
              "  <tbody>\n",
              "    <tr>\n",
              "      <th>0</th>\n",
              "      <td>1</td>\n",
              "      <td>0.676768</td>\n",
              "      <td>7</td>\n",
              "      <td>0</td>\n",
              "      <td>0</td>\n",
              "      <td>0</td>\n",
              "      <td>0.238095</td>\n",
              "      <td>1.000000</td>\n",
              "      <td>0.000000</td>\n",
              "      <td>0</td>\n",
              "      <td>0.818182</td>\n",
              "      <td>1</td>\n",
              "    </tr>\n",
              "    <tr>\n",
              "      <th>1</th>\n",
              "      <td>0</td>\n",
              "      <td>0.565657</td>\n",
              "      <td>7</td>\n",
              "      <td>2</td>\n",
              "      <td>0</td>\n",
              "      <td>0</td>\n",
              "      <td>0.190476</td>\n",
              "      <td>0.943662</td>\n",
              "      <td>0.448276</td>\n",
              "      <td>2</td>\n",
              "      <td>0.181818</td>\n",
              "      <td>1</td>\n",
              "    </tr>\n",
              "    <tr>\n",
              "      <th>2</th>\n",
              "      <td>0</td>\n",
              "      <td>0.939394</td>\n",
              "      <td>6</td>\n",
              "      <td>2</td>\n",
              "      <td>0</td>\n",
              "      <td>0</td>\n",
              "      <td>0.714286</td>\n",
              "      <td>0.873239</td>\n",
              "      <td>0.000000</td>\n",
              "      <td>0</td>\n",
              "      <td>0.818182</td>\n",
              "      <td>0</td>\n",
              "    </tr>\n",
              "  </tbody>\n",
              "</table>\n",
              "</div>"
            ],
            "text/plain": [
              "   gender  past_3_years_bike_related_purchases  ...  property_valuation  high_value\n",
              "0       1                             0.676768  ...            0.818182           1\n",
              "1       0                             0.565657  ...            0.181818           1\n",
              "2       0                             0.939394  ...            0.818182           0\n",
              "\n",
              "[3 rows x 12 columns]"
            ]
          },
          "metadata": {},
          "execution_count": 10
        }
      ]
    },
    {
      "cell_type": "code",
      "metadata": {
        "colab": {
          "base_uri": "https://localhost:8080/"
        },
        "id": "eB1HpK4dstbS",
        "outputId": "e2ab2532-21b5-4ddd-dcf3-12beeb755b32"
      },
      "source": [
        "data.past_3_years_bike_related_purchases.unique()"
      ],
      "execution_count": null,
      "outputs": [
        {
          "output_type": "execute_result",
          "data": {
            "text/plain": [
              "array([0.67676768, 0.56565657, 0.93939394, 0.27272727, 0.38383838,\n",
              "       0.73737374, 0.71717172, 0.47474747, 0.95959596, 0.51515152,\n",
              "       0.48484848, 0.21212121, 0.01010101, 0.4040404 , 0.05050505,\n",
              "       0.97979798, 0.74747475, 0.8989899 , 0.60606061, 0.02020202,\n",
              "       0.07070707, 0.08080808, 0.44444444, 0.19191919, 0.23232323,\n",
              "       0.29292929, 0.77777778, 0.2020202 , 0.22222222, 1.        ,\n",
              "       0.41414141, 0.09090909, 0.5959596 , 0.7979798 , 0.81818182,\n",
              "       0.49494949, 0.98989899, 0.54545455, 0.61616162, 0.53535354,\n",
              "       0.55555556, 0.72727273, 0.62626263, 0.34343434, 0.15151515,\n",
              "       0.50505051, 0.06060606, 0.78787879, 0.35353535, 0.75757576,\n",
              "       0.82828283, 0.6969697 , 0.64646465, 0.45454545, 0.12121212,\n",
              "       0.76767677, 0.33333333, 0.96969697, 0.17171717, 0.1010101 ,\n",
              "       0.        , 0.37373737, 0.42424242, 0.3030303 , 0.88888889,\n",
              "       0.36363636, 0.70707071, 0.66666667, 0.25252525, 0.11111111,\n",
              "       0.14141414, 0.13131313, 0.18181818, 0.83838384, 0.68686869,\n",
              "       0.16161616, 0.80808081, 0.43434343, 0.04040404, 0.52525253,\n",
              "       0.32323232, 0.65656566, 0.86868687, 0.39393939, 0.63636364,\n",
              "       0.90909091, 0.87878788, 0.84848485, 0.03030303, 0.94949495,\n",
              "       0.28282828, 0.91919192, 0.26262626, 0.24242424, 0.57575758,\n",
              "       0.31313131, 0.46464646, 0.58585859, 0.92929293, 0.85858586])"
            ]
          },
          "metadata": {},
          "execution_count": 11
        }
      ]
    },
    {
      "cell_type": "code",
      "metadata": {
        "colab": {
          "base_uri": "https://localhost:8080/",
          "height": 142
        },
        "id": "D9QfNRvDjemY",
        "outputId": "6082f6d1-7209-41b8-b857-75b909f32b47"
      },
      "source": [
        "test_data.head(3)"
      ],
      "execution_count": null,
      "outputs": [
        {
          "output_type": "execute_result",
          "data": {
            "text/html": [
              "<div>\n",
              "<style scoped>\n",
              "    .dataframe tbody tr th:only-of-type {\n",
              "        vertical-align: middle;\n",
              "    }\n",
              "\n",
              "    .dataframe tbody tr th {\n",
              "        vertical-align: top;\n",
              "    }\n",
              "\n",
              "    .dataframe thead th {\n",
              "        text-align: right;\n",
              "    }\n",
              "</style>\n",
              "<table border=\"1\" class=\"dataframe\">\n",
              "  <thead>\n",
              "    <tr style=\"text-align: right;\">\n",
              "      <th></th>\n",
              "      <th>gender</th>\n",
              "      <th>past_3_years_bike_related_purchases</th>\n",
              "      <th>job_industry_category</th>\n",
              "      <th>wealth_segment</th>\n",
              "      <th>deceased_indicator</th>\n",
              "      <th>owns_car</th>\n",
              "      <th>tenure</th>\n",
              "      <th>customer_age</th>\n",
              "      <th>postcode</th>\n",
              "      <th>state</th>\n",
              "      <th>property_valuation</th>\n",
              "    </tr>\n",
              "  </thead>\n",
              "  <tbody>\n",
              "    <tr>\n",
              "      <th>0</th>\n",
              "      <td>1</td>\n",
              "      <td>0.868687</td>\n",
              "      <td>5</td>\n",
              "      <td>2</td>\n",
              "      <td>0</td>\n",
              "      <td>1</td>\n",
              "      <td>0.619048</td>\n",
              "      <td>0.633803</td>\n",
              "      <td>0.862069</td>\n",
              "      <td>1</td>\n",
              "      <td>0.454545</td>\n",
              "    </tr>\n",
              "    <tr>\n",
              "      <th>1</th>\n",
              "      <td>1</td>\n",
              "      <td>0.696970</td>\n",
              "      <td>6</td>\n",
              "      <td>2</td>\n",
              "      <td>0</td>\n",
              "      <td>0</td>\n",
              "      <td>0.714286</td>\n",
              "      <td>0.450704</td>\n",
              "      <td>0.034483</td>\n",
              "      <td>0</td>\n",
              "      <td>0.909091</td>\n",
              "    </tr>\n",
              "    <tr>\n",
              "      <th>2</th>\n",
              "      <td>0</td>\n",
              "      <td>0.101010</td>\n",
              "      <td>2</td>\n",
              "      <td>0</td>\n",
              "      <td>0</td>\n",
              "      <td>0</td>\n",
              "      <td>0.428571</td>\n",
              "      <td>0.394366</td>\n",
              "      <td>0.517241</td>\n",
              "      <td>2</td>\n",
              "      <td>0.363636</td>\n",
              "    </tr>\n",
              "  </tbody>\n",
              "</table>\n",
              "</div>"
            ],
            "text/plain": [
              "   gender  past_3_years_bike_related_purchases  ...  state  property_valuation\n",
              "0       1                             0.868687  ...      1            0.454545\n",
              "1       1                             0.696970  ...      0            0.909091\n",
              "2       0                             0.101010  ...      2            0.363636\n",
              "\n",
              "[3 rows x 11 columns]"
            ]
          },
          "metadata": {},
          "execution_count": 12
        }
      ]
    },
    {
      "cell_type": "code",
      "metadata": {
        "id": "oYX-ShvnU8ph"
      },
      "source": [
        "def modelfit(alg, dtrain, y_train, predictors, performCV = True, printFeatureImportance = True, cv_folds = 5):\n",
        "    #fit the algorithm on the data. \n",
        "    alg.fit(dtrain, y_train)\n",
        "\n",
        "    #Predict training set:\n",
        "    dtrain_predictions = alg.predict(dtrain)\n",
        "    dtrain_predprob = alg.predict_proba(dtrain)[:, 1]\n",
        "\n",
        "    #Perform cross-validation:\n",
        "    if performCV:\n",
        "        cv_score = cross_val_score(alg, dtrain, y_train, cv = cv_folds, scoring = 'roc_auc')\n",
        "\n",
        "    #Print model report:\n",
        "    print(\"\\nModel Report\")\n",
        "    print(\"Accuracy : %.4g\" % metrics.accuracy_score(y_train.values, dtrain_predictions))\n",
        "    print(\"AUC Score (Train) : %f\" % metrics.roc_auc_score(y_train, dtrain_predprob))\n",
        "\n",
        "    if performCV:\n",
        "        print(\"CV Score : Mean - %.7g | Std - %.7g | Min - %.7g | Max - %.7g\" % (np.mean(cv_score), np.std(cv_score), np.min(cv_score), np.max(cv_score)))\n",
        "\n",
        "    #Print Feature Importance: \n",
        "    if printFeatureImportance: \n",
        "        feat_imp = pd.Series(alg.feature_importances_, predictors).sort_values(ascending = False)\n",
        "        feat_imp.plot(kind='bar', title = 'Feature Importances')\n",
        "        plt.ylabel(\"Feature Importance Score.\")"
      ],
      "execution_count": null,
      "outputs": []
    },
    {
      "cell_type": "code",
      "metadata": {
        "id": "4IpIpH-HXqWH"
      },
      "source": [
        "predictors = [x for x in data.columns if x not in [target] ]"
      ],
      "execution_count": null,
      "outputs": []
    },
    {
      "cell_type": "code",
      "metadata": {
        "id": "5P9QaFXknTE0"
      },
      "source": [
        "from sklearn.model_selection import train_test_split\n",
        "\n",
        "X_train, X_val, y_train, y_val = train_test_split(data[predictors], data[target], test_size = 0.2, )\n",
        "\n",
        "X_train = X_train.reset_index(drop = True)\n",
        "y_train = y_train.reset_index(drop = True)\n",
        "X_val = X_val.reset_index(drop = True)\n",
        "y_val = y_val.reset_index(drop = True)"
      ],
      "execution_count": null,
      "outputs": []
    },
    {
      "cell_type": "code",
      "metadata": {
        "colab": {
          "base_uri": "https://localhost:8080/",
          "height": 544
        },
        "id": "6JRUoHzCiJuI",
        "outputId": "82f0645c-5c30-4672-c6da-820262319f44"
      },
      "source": [
        "gbm0 = GradientBoostingClassifier(random_state = 10, learning_rate= 0.5, min_samples_split= 5, n_estimators= 1000)\n",
        "modelfit(gbm0, X_train, y_train, predictors)"
      ],
      "execution_count": null,
      "outputs": [
        {
          "output_type": "stream",
          "text": [
            "\n",
            "Model Report\n",
            "Accuracy : 0.9993\n",
            "AUC Score (Train) : 0.999999\n",
            "CV Score : Mean - 0.4904137 | Std - 0.01139527 | Min - 0.4776762 | Max - 0.5068092\n"
          ],
          "name": "stdout"
        },
        {
          "output_type": "display_data",
          "data": {
            "image/png": "[encoded data removed]",
            "text/plain": [
              "<Figure size 864x288 with 1 Axes>"
            ]
          },
          "metadata": {
            "needs_background": "light"
          }
        }
      ]
    },
    {
      "cell_type": "code",
      "metadata": {
        "colab": {
          "base_uri": "https://localhost:8080/"
        },
        "id": "8MrbfVxHirei",
        "outputId": "9e3d8f80-3817-4e79-e0b7-7186d247fe3e"
      },
      "source": [
        "predictions = gbm0.predict(X_val)\n",
        "print(\"Prediction Accuracy: {} % \".format(round(metrics.accuracy_score(y_val, predictions) *100, 2)))"
      ],
      "execution_count": null,
      "outputs": [
        {
          "output_type": "stream",
          "text": [
            "Prediction Accuracy: 52.12 % \n"
          ],
          "name": "stdout"
        }
      ]
    },
    {
      "cell_type": "code",
      "metadata": {
        "id": "JXiS7rumrQhU"
      },
      "source": [
        ""
      ],
      "execution_count": null,
      "outputs": []
    }
  ]
}