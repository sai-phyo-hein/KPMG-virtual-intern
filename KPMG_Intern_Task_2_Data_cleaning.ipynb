{
  "nbformat": 4,
  "nbformat_minor": 0,
  "metadata": {
    "colab": {
      "name": "KPMG Intern - Task 2-Data-cleaning",
      "provenance": [],
      "collapsed_sections": []
    },
    "kernelspec": {
      "name": "python3",
      "display_name": "Python 3"
    },
    "language_info": {
      "name": "python"
    }
  },
  "cells": [
    {
      "cell_type": "code",
      "metadata": {
        "id": "1BIQ6IVoy60E"
      },
      "source": [
        "!cp /content/drive/MyDrive/KPMG_VI_New_raw_data_update_final.xlsx /content/"
      ],
      "execution_count": null,
      "outputs": []
    },
    {
      "cell_type": "code",
      "metadata": {
        "id": "lblQFIwOzKYP"
      },
      "source": [
        "import pandas as pd \n",
        "import numpy as np \n",
        "import matplotlib.pyplot as plt \n",
        "import seaborn as sns"
      ],
      "execution_count": null,
      "outputs": []
    },
    {
      "cell_type": "code",
      "metadata": {
        "id": "KECG9Qd8CrQC"
      },
      "source": [
        "import warnings\n",
        "warnings.filterwarnings(\"ignore\", category = FutureWarning)\n"
      ],
      "execution_count": null,
      "outputs": []
    },
    {
      "cell_type": "code",
      "metadata": {
        "id": "eZpZ2Z6tzYmi"
      },
      "source": [
        "customer_demograph = pd.read_excel(\"/content/KPMG_VI_New_raw_data_update_final.xlsx\", sheet_name= \"CustomerDemographic\", skiprows = [0], parse_dates= [\"DOB\"])"
      ],
      "execution_count": null,
      "outputs": []
    },
    {
      "cell_type": "code",
      "metadata": {
        "id": "hce1JQ2V2nhQ"
      },
      "source": [
        "transact = pd.read_excel(\"/content/KPMG_VI_New_raw_data_update_final.xlsx\", sheet_name= \"Transactions\", skiprows = [0], parse_dates= [\"transaction_date\"])"
      ],
      "execution_count": null,
      "outputs": []
    },
    {
      "cell_type": "code",
      "metadata": {
        "id": "TvATqRCR2qle"
      },
      "source": [
        "new_customer_list = pd.read_excel(\"/content/KPMG_VI_New_raw_data_update_final.xlsx\", sheet_name= \"NewCustomerList\", skiprows = [0], parse_dates= [\"DOB\"])"
      ],
      "execution_count": null,
      "outputs": []
    },
    {
      "cell_type": "code",
      "metadata": {
        "id": "dOyBdXuE2s6S"
      },
      "source": [
        "addresses_df = pd.read_excel(\"/content/KPMG_VI_New_raw_data_update_final.xlsx\", sheet_name=\"CustomerAddress\", skiprows=[0])"
      ],
      "execution_count": null,
      "outputs": []
    },
    {
      "cell_type": "code",
      "metadata": {
        "colab": {
          "base_uri": "https://localhost:8080/"
        },
        "id": "6SqHUGxWA3VG",
        "outputId": "4f1a7097-b40e-4d2e-fc99-8523d067ac0c"
      },
      "source": [
        "print(customer_demograph.shape)\n",
        "print(transact.shape)\n",
        "print(new_customer_list.shape)\n",
        "print(address_df.shape)"
      ],
      "execution_count": null,
      "outputs": [
        {
          "output_type": "stream",
          "name": "stdout",
          "text": [
            "(4000, 13)\n",
            "(20000, 13)\n",
            "(1000, 23)\n"
          ]
        },
        {
          "output_type": "error",
          "ename": "NameError",
          "evalue": "ignored",
          "traceback": [
            "\u001b[0;31m---------------------------------------------------------------------------\u001b[0m",
            "\u001b[0;31mNameError\u001b[0m                                 Traceback (most recent call last)",
            "\u001b[0;32m<ipython-input-8-16e6071bf29b>\u001b[0m in \u001b[0;36m<module>\u001b[0;34m()\u001b[0m\n\u001b[1;32m      2\u001b[0m \u001b[0mprint\u001b[0m\u001b[0;34m(\u001b[0m\u001b[0mtransact\u001b[0m\u001b[0;34m.\u001b[0m\u001b[0mshape\u001b[0m\u001b[0;34m)\u001b[0m\u001b[0;34m\u001b[0m\u001b[0;34m\u001b[0m\u001b[0m\n\u001b[1;32m      3\u001b[0m \u001b[0mprint\u001b[0m\u001b[0;34m(\u001b[0m\u001b[0mnew_customer_list\u001b[0m\u001b[0;34m.\u001b[0m\u001b[0mshape\u001b[0m\u001b[0;34m)\u001b[0m\u001b[0;34m\u001b[0m\u001b[0;34m\u001b[0m\u001b[0m\n\u001b[0;32m----> 4\u001b[0;31m \u001b[0mprint\u001b[0m\u001b[0;34m(\u001b[0m\u001b[0maddress_df\u001b[0m\u001b[0;34m.\u001b[0m\u001b[0mshape\u001b[0m\u001b[0;34m)\u001b[0m\u001b[0;34m\u001b[0m\u001b[0;34m\u001b[0m\u001b[0m\n\u001b[0m",
            "\u001b[0;31mNameError\u001b[0m: name 'address_df' is not defined"
          ]
        }
      ]
    },
    {
      "cell_type": "markdown",
      "metadata": {
        "id": "ruxicVCf2MSz"
      },
      "source": [
        "> Data Cleaning for Customer Demograph\n"
      ]
    },
    {
      "cell_type": "code",
      "metadata": {
        "colab": {
          "base_uri": "https://localhost:8080/"
        },
        "id": "31nJH9bftg4D",
        "outputId": "97e7a1fa-b4ad-4927-ecdc-bddd747b28a1"
      },
      "source": [
        "customer_demograph.info()"
      ],
      "execution_count": null,
      "outputs": [
        {
          "output_type": "stream",
          "text": [
            "<class 'pandas.core.frame.DataFrame'>\n",
            "RangeIndex: 4000 entries, 0 to 3999\n",
            "Data columns (total 13 columns):\n",
            " #   Column                               Non-Null Count  Dtype         \n",
            "---  ------                               --------------  -----         \n",
            " 0   customer_id                          4000 non-null   int64         \n",
            " 1   first_name                           4000 non-null   object        \n",
            " 2   last_name                            3875 non-null   object        \n",
            " 3   gender                               4000 non-null   object        \n",
            " 4   past_3_years_bike_related_purchases  4000 non-null   int64         \n",
            " 5   DOB                                  3913 non-null   datetime64[ns]\n",
            " 6   job_title                            3494 non-null   object        \n",
            " 7   job_industry_category                3344 non-null   object        \n",
            " 8   wealth_segment                       4000 non-null   object        \n",
            " 9   deceased_indicator                   4000 non-null   object        \n",
            " 10  default                              3698 non-null   object        \n",
            " 11  owns_car                             4000 non-null   object        \n",
            " 12  tenure                               3913 non-null   float64       \n",
            "dtypes: datetime64[ns](1), float64(1), int64(2), object(9)\n",
            "memory usage: 406.4+ KB\n"
          ],
          "name": "stdout"
        }
      ]
    },
    {
      "cell_type": "code",
      "metadata": {
        "id": "eO5be7Yq2S_z"
      },
      "source": [
        "customer_demograph.drop([\"first_name\", \"last_name\",\"job_title\",\"default\"], axis = 1, inplace= True)"
      ],
      "execution_count": null,
      "outputs": []
    },
    {
      "cell_type": "code",
      "metadata": {
        "id": "QeZx_2D441ER"
      },
      "source": [
        "customer_demograph[\"customer_age\"] = 2021.0 - customer_demograph.DOB.dt.year \n",
        "customer_demograph = customer_demograph[customer_demograph.customer_age < 100]\n",
        "customer_demograph.drop(\"DOB\", axis = 1, inplace  = True)\n",
        "customer_demograph.customer_age = customer_demograph.customer_age.fillna(method = \"ffill\")"
      ],
      "execution_count": null,
      "outputs": []
    },
    {
      "cell_type": "code",
      "metadata": {
        "colab": {
          "base_uri": "https://localhost:8080/"
        },
        "id": "ioId4jiSrOv3",
        "outputId": "0065833e-7f24-46b2-83cd-0784d8381996"
      },
      "source": [
        "customer_demograph.customer_age.max()"
      ],
      "execution_count": null,
      "outputs": [
        {
          "output_type": "execute_result",
          "data": {
            "text/plain": [
              "90.0"
            ]
          },
          "metadata": {},
          "execution_count": 11
        }
      ]
    },
    {
      "cell_type": "code",
      "metadata": {
        "colab": {
          "base_uri": "https://localhost:8080/"
        },
        "id": "eHzPr_Autxr1",
        "outputId": "b2779aab-b6e2-48c4-b3ca-3fe6979c0469"
      },
      "source": [
        "customer_demograph.info()"
      ],
      "execution_count": null,
      "outputs": [
        {
          "output_type": "stream",
          "text": [
            "<class 'pandas.core.frame.DataFrame'>\n",
            "Int64Index: 3912 entries, 0 to 3911\n",
            "Data columns (total 9 columns):\n",
            " #   Column                               Non-Null Count  Dtype  \n",
            "---  ------                               --------------  -----  \n",
            " 0   customer_id                          3912 non-null   int64  \n",
            " 1   gender                               3912 non-null   object \n",
            " 2   past_3_years_bike_related_purchases  3912 non-null   int64  \n",
            " 3   job_industry_category                3256 non-null   object \n",
            " 4   wealth_segment                       3912 non-null   object \n",
            " 5   deceased_indicator                   3912 non-null   object \n",
            " 6   owns_car                             3912 non-null   object \n",
            " 7   tenure                               3912 non-null   float64\n",
            " 8   customer_age                         3912 non-null   float64\n",
            "dtypes: float64(2), int64(2), object(5)\n",
            "memory usage: 305.6+ KB\n"
          ],
          "name": "stdout"
        }
      ]
    },
    {
      "cell_type": "code",
      "metadata": {
        "colab": {
          "base_uri": "https://localhost:8080/"
        },
        "id": "Aur728COt9AA",
        "outputId": "7d0028db-38c6-446a-abda-57124b845826"
      },
      "source": [
        "customer_demograph.job_industry_category = customer_demograph.job_industry_category.fillna(method = \"ffill\")\n",
        "customer_demograph.info()"
      ],
      "execution_count": null,
      "outputs": [
        {
          "output_type": "stream",
          "text": [
            "<class 'pandas.core.frame.DataFrame'>\n",
            "Int64Index: 3912 entries, 0 to 3911\n",
            "Data columns (total 9 columns):\n",
            " #   Column                               Non-Null Count  Dtype  \n",
            "---  ------                               --------------  -----  \n",
            " 0   customer_id                          3912 non-null   int64  \n",
            " 1   gender                               3912 non-null   object \n",
            " 2   past_3_years_bike_related_purchases  3912 non-null   int64  \n",
            " 3   job_industry_category                3912 non-null   object \n",
            " 4   wealth_segment                       3912 non-null   object \n",
            " 5   deceased_indicator                   3912 non-null   object \n",
            " 6   owns_car                             3912 non-null   object \n",
            " 7   tenure                               3912 non-null   float64\n",
            " 8   customer_age                         3912 non-null   float64\n",
            "dtypes: float64(2), int64(2), object(5)\n",
            "memory usage: 305.6+ KB\n"
          ],
          "name": "stdout"
        }
      ]
    },
    {
      "cell_type": "code",
      "metadata": {
        "colab": {
          "base_uri": "https://localhost:8080/"
        },
        "id": "UhkdV9rsueFU",
        "outputId": "1005d1a7-e231-4829-a2fb-5b7c44ad5bf0"
      },
      "source": [
        "for cat_col in customer_demograph.select_dtypes(include = object).columns: \n",
        "    print(f\"Uniques in       {cat_col}    :      {customer_demograph[cat_col].unique()}\")"
      ],
      "execution_count": null,
      "outputs": [
        {
          "output_type": "stream",
          "text": [
            "Uniques in       gender    :      ['Male' 'Female' 'F' 'Femal' 'M']\n",
            "Uniques in       job_industry_category    :      ['Retail' 'Property' 'Manufacturing' 'Health' 'IT' 'Entertainment'\n",
            " 'Financial Services' 'Argiculture' 'Telecommunications']\n",
            "Uniques in       wealth_segment    :      ['Affluent Customer' 'Mass Customer' 'High Net Worth']\n",
            "Uniques in       deceased_indicator    :      ['N' 'Y']\n",
            "Uniques in       owns_car    :      ['No' 'Yes']\n"
          ],
          "name": "stdout"
        }
      ]
    },
    {
      "cell_type": "code",
      "metadata": {
        "colab": {
          "base_uri": "https://localhost:8080/"
        },
        "id": "3aNKTHUpvfMp",
        "outputId": "07023cca-3ca7-4f5a-91b0-0315a5277557"
      },
      "source": [
        "customer_demograph.gender.unique()"
      ],
      "execution_count": null,
      "outputs": [
        {
          "output_type": "execute_result",
          "data": {
            "text/plain": [
              "array(['Male', 'Female', 'F', 'Femal', 'M'], dtype=object)"
            ]
          },
          "metadata": {},
          "execution_count": 15
        }
      ]
    },
    {
      "cell_type": "code",
      "metadata": {
        "id": "9uWttcnwvGdL"
      },
      "source": [
        "gender_list = []\n",
        "for gender in customer_demograph.gender:\n",
        "    if gender == \"F\" or gender == \"Femal\":\n",
        "        gender = \"Female\"\n",
        "    elif gender == \"M\":\n",
        "        gender = \"Male\"\n",
        "\n",
        "    gender_list.append(gender)\n",
        "\n",
        "customer_demograph[\"gender\"] = gender_list"
      ],
      "execution_count": null,
      "outputs": []
    },
    {
      "cell_type": "code",
      "metadata": {
        "colab": {
          "base_uri": "https://localhost:8080/"
        },
        "id": "qCI97SUMv49X",
        "outputId": "0facae69-294b-4a00-8844-4eefd5c78762"
      },
      "source": [
        "customer_demograph.gender.unique()"
      ],
      "execution_count": null,
      "outputs": [
        {
          "output_type": "execute_result",
          "data": {
            "text/plain": [
              "array(['Male', 'Female'], dtype=object)"
            ]
          },
          "metadata": {},
          "execution_count": 17
        }
      ]
    },
    {
      "cell_type": "code",
      "metadata": {
        "colab": {
          "base_uri": "https://localhost:8080/"
        },
        "id": "YfPVH2mD0oiy",
        "outputId": "3464bcba-7b28-43a6-9dfc-012efb2840e1"
      },
      "source": [
        "for cat_col in customer_demograph.select_dtypes(include = object).columns: \n",
        "    print(f\"Uniques in       {cat_col}    :      {customer_demograph[cat_col].unique()}\")"
      ],
      "execution_count": null,
      "outputs": [
        {
          "output_type": "stream",
          "text": [
            "Uniques in       gender    :      ['Male' 'Female']\n",
            "Uniques in       job_industry_category    :      ['Retail' 'Property' 'Manufacturing' 'Health' 'IT' 'Entertainment'\n",
            " 'Financial Services' 'Argiculture' 'Telecommunications']\n",
            "Uniques in       wealth_segment    :      ['Affluent Customer' 'Mass Customer' 'High Net Worth']\n",
            "Uniques in       deceased_indicator    :      ['N' 'Y']\n",
            "Uniques in       owns_car    :      ['No' 'Yes']\n"
          ],
          "name": "stdout"
        }
      ]
    },
    {
      "cell_type": "code",
      "metadata": {
        "colab": {
          "base_uri": "https://localhost:8080/"
        },
        "id": "BRKaKd9c4kS6",
        "outputId": "e3d55e4c-27ac-4ddf-be34-8bb1c7ca8654"
      },
      "source": [
        "addresses_df.info()"
      ],
      "execution_count": null,
      "outputs": [
        {
          "output_type": "stream",
          "text": [
            "<class 'pandas.core.frame.DataFrame'>\n",
            "RangeIndex: 3999 entries, 0 to 3998\n",
            "Data columns (total 6 columns):\n",
            " #   Column              Non-Null Count  Dtype \n",
            "---  ------              --------------  ----- \n",
            " 0   customer_id         3999 non-null   int64 \n",
            " 1   address             3999 non-null   object\n",
            " 2   postcode            3999 non-null   int64 \n",
            " 3   state               3999 non-null   object\n",
            " 4   country             3999 non-null   object\n",
            " 5   property_valuation  3999 non-null   int64 \n",
            "dtypes: int64(3), object(3)\n",
            "memory usage: 187.6+ KB\n"
          ],
          "name": "stdout"
        }
      ]
    },
    {
      "cell_type": "code",
      "metadata": {
        "id": "lAA_YfnT48KC"
      },
      "source": [
        "postcode_generalized = []\n",
        "for postcode in addresses_df.postcode:\n",
        "    post_code = round(postcode, -2)\n",
        "    postcode_generalized.append(post_code)\n",
        "\n",
        "addresses_df[\"postcode\"] = postcode_generalized\n",
        "addresses_df[\"postcode\"] = addresses_df.postcode.astype(str)"
      ],
      "execution_count": null,
      "outputs": []
    },
    {
      "cell_type": "code",
      "metadata": {
        "id": "eoVx5rpd9xRF"
      },
      "source": [
        "addresses_df.drop([\"address\", \"country\"], axis = 1, inplace = True)"
      ],
      "execution_count": null,
      "outputs": []
    },
    {
      "cell_type": "code",
      "metadata": {
        "id": "rHlIupgO_0UW"
      },
      "source": [
        "state_cleaned = []\n",
        "for state in addresses_df.state:\n",
        "    if state == \"Victoria\":\n",
        "        state = \"VIC\"\n",
        "    elif state == \"New South Wales\":\n",
        "        state = \"NSW\"\n",
        "    state_cleaned.append(state)\n",
        "\n",
        "addresses_df[\"state\"] = state_cleaned"
      ],
      "execution_count": null,
      "outputs": []
    },
    {
      "cell_type": "code",
      "metadata": {
        "id": "eLsrbAKt96Oi"
      },
      "source": [
        "customer_demograph_plus_address = customer_demograph.merge(addresses_df, on= \"customer_id\")"
      ],
      "execution_count": null,
      "outputs": []
    },
    {
      "cell_type": "code",
      "metadata": {
        "colab": {
          "base_uri": "https://localhost:8080/"
        },
        "id": "cmHlXdId-dWS",
        "outputId": "520ddf43-124c-49b3-a0e6-a87340c66a81"
      },
      "source": [
        "customer_demograph_plus_address.info()"
      ],
      "execution_count": null,
      "outputs": [
        {
          "output_type": "stream",
          "text": [
            "<class 'pandas.core.frame.DataFrame'>\n",
            "Int64Index: 3908 entries, 0 to 3907\n",
            "Data columns (total 12 columns):\n",
            " #   Column                               Non-Null Count  Dtype  \n",
            "---  ------                               --------------  -----  \n",
            " 0   customer_id                          3908 non-null   int64  \n",
            " 1   gender                               3908 non-null   object \n",
            " 2   past_3_years_bike_related_purchases  3908 non-null   int64  \n",
            " 3   job_industry_category                3908 non-null   object \n",
            " 4   wealth_segment                       3908 non-null   object \n",
            " 5   deceased_indicator                   3908 non-null   object \n",
            " 6   owns_car                             3908 non-null   object \n",
            " 7   tenure                               3908 non-null   float64\n",
            " 8   customer_age                         3908 non-null   float64\n",
            " 9   postcode                             3908 non-null   object \n",
            " 10  state                                3908 non-null   object \n",
            " 11  property_valuation                   3908 non-null   int64  \n",
            "dtypes: float64(2), int64(3), object(7)\n",
            "memory usage: 396.9+ KB\n"
          ],
          "name": "stdout"
        }
      ]
    },
    {
      "cell_type": "code",
      "metadata": {
        "colab": {
          "base_uri": "https://localhost:8080/"
        },
        "id": "9a0IB-_j-fCA",
        "outputId": "c35e3d29-fc4b-4292-f9b5-1b7d44bc2725"
      },
      "source": [
        "for cat_col in customer_demograph_plus_address.select_dtypes(include = object).columns: \n",
        "    print(f\"Uniques in       {cat_col}    :      {customer_demograph_plus_address[cat_col].unique()}\")"
      ],
      "execution_count": null,
      "outputs": [
        {
          "output_type": "stream",
          "text": [
            "Uniques in       gender    :      ['Male' 'Female']\n",
            "Uniques in       job_industry_category    :      ['Retail' 'Property' 'Manufacturing' 'Health' 'IT' 'Entertainment'\n",
            " 'Financial Services' 'Argiculture' 'Telecommunications']\n",
            "Uniques in       wealth_segment    :      ['Affluent Customer' 'Mass Customer' 'High Net Worth']\n",
            "Uniques in       deceased_indicator    :      ['N' 'Y']\n",
            "Uniques in       owns_car    :      ['No' 'Yes']\n",
            "Uniques in       postcode    :      ['2000' '3300' '3100' '3000' '2200' '2100' '4800' '3400' '3200' '4000'\n",
            " '4700' '2600' '2500' '4300' '2300' '4600' '3600' '4200' '4400' '4500'\n",
            " '3900' '3800' '4100' '2800' '2700' '3700' '2400' '2900' '4900' '3500']\n",
            "Uniques in       state    :      ['NSW' 'VIC' 'QLD']\n"
          ],
          "name": "stdout"
        }
      ]
    },
    {
      "cell_type": "code",
      "metadata": {
        "colab": {
          "base_uri": "https://localhost:8080/"
        },
        "id": "SGODTEWJNxHS",
        "outputId": "5effcc90-4720-4847-e49e-dcb17fc797e1"
      },
      "source": [
        "transact.info()"
      ],
      "execution_count": null,
      "outputs": [
        {
          "output_type": "stream",
          "text": [
            "<class 'pandas.core.frame.DataFrame'>\n",
            "RangeIndex: 20000 entries, 0 to 19999\n",
            "Data columns (total 13 columns):\n",
            " #   Column                   Non-Null Count  Dtype         \n",
            "---  ------                   --------------  -----         \n",
            " 0   transaction_id           20000 non-null  int64         \n",
            " 1   product_id               20000 non-null  int64         \n",
            " 2   customer_id              20000 non-null  int64         \n",
            " 3   transaction_date         20000 non-null  datetime64[ns]\n",
            " 4   online_order             19640 non-null  float64       \n",
            " 5   order_status             20000 non-null  object        \n",
            " 6   brand                    19803 non-null  object        \n",
            " 7   product_line             19803 non-null  object        \n",
            " 8   product_class            19803 non-null  object        \n",
            " 9   product_size             19803 non-null  object        \n",
            " 10  list_price               20000 non-null  float64       \n",
            " 11  standard_cost            19803 non-null  float64       \n",
            " 12  product_first_sold_date  19803 non-null  float64       \n",
            "dtypes: datetime64[ns](1), float64(4), int64(3), object(5)\n",
            "memory usage: 2.0+ MB\n"
          ],
          "name": "stdout"
        }
      ]
    },
    {
      "cell_type": "code",
      "metadata": {
        "id": "_DpBc6JIOEud"
      },
      "source": [
        "id_vs_transact_amount = transact[transact.order_status == \"Approved\"][[\"customer_id\", \"standard_cost\"]].groupby(\"customer_id\", as_index = False).sum()"
      ],
      "execution_count": null,
      "outputs": []
    },
    {
      "cell_type": "code",
      "metadata": {
        "colab": {
          "base_uri": "https://localhost:8080/"
        },
        "id": "sbpcoPFeONbD",
        "outputId": "0db7d92a-0966-4c0d-cfa6-76c38e8b47ca"
      },
      "source": [
        "id_vs_transact_amount.shape"
      ],
      "execution_count": null,
      "outputs": [
        {
          "output_type": "execute_result",
          "data": {
            "text/plain": [
              "(3493, 2)"
            ]
          },
          "metadata": {},
          "execution_count": 89
        }
      ]
    },
    {
      "cell_type": "code",
      "metadata": {
        "id": "UrhpY94PO-56"
      },
      "source": [
        "id_vs_transact_count = transact[transact.order_status == \"Approved\"][[\"customer_id\", \"standard_cost\"]].groupby(\"customer_id\", as_index = False).count()"
      ],
      "execution_count": null,
      "outputs": []
    },
    {
      "cell_type": "code",
      "metadata": {
        "colab": {
          "base_uri": "https://localhost:8080/"
        },
        "id": "FUoRBOvOPI1D",
        "outputId": "d36d3475-a7aa-4c6a-a192-521e3a9d036f"
      },
      "source": [
        "id_vs_transact_count.shape"
      ],
      "execution_count": null,
      "outputs": [
        {
          "output_type": "execute_result",
          "data": {
            "text/plain": [
              "(3493, 2)"
            ]
          },
          "metadata": {},
          "execution_count": 91
        }
      ]
    },
    {
      "cell_type": "code",
      "metadata": {
        "id": "rSfGlc2oPKr9"
      },
      "source": [
        "customer_spending = id_vs_transact_amount.merge(id_vs_transact_count, on = \"customer_id\")"
      ],
      "execution_count": null,
      "outputs": []
    },
    {
      "cell_type": "code",
      "metadata": {
        "colab": {
          "base_uri": "https://localhost:8080/",
          "height": 205
        },
        "id": "ZJu6g6cOPihL",
        "outputId": "e3fadf2a-daac-48da-882e-bcf2b41ac371"
      },
      "source": [
        "customer_spending.head()"
      ],
      "execution_count": null,
      "outputs": [
        {
          "output_type": "execute_result",
          "data": {
            "text/html": [
              "<div>\n",
              "<style scoped>\n",
              "    .dataframe tbody tr th:only-of-type {\n",
              "        vertical-align: middle;\n",
              "    }\n",
              "\n",
              "    .dataframe tbody tr th {\n",
              "        vertical-align: top;\n",
              "    }\n",
              "\n",
              "    .dataframe thead th {\n",
              "        text-align: right;\n",
              "    }\n",
              "</style>\n",
              "<table border=\"1\" class=\"dataframe\">\n",
              "  <thead>\n",
              "    <tr style=\"text-align: right;\">\n",
              "      <th></th>\n",
              "      <th>customer_id</th>\n",
              "      <th>standard_cost_x</th>\n",
              "      <th>standard_cost_y</th>\n",
              "    </tr>\n",
              "  </thead>\n",
              "  <tbody>\n",
              "    <tr>\n",
              "      <th>0</th>\n",
              "      <td>1</td>\n",
              "      <td>6066.36</td>\n",
              "      <td>11</td>\n",
              "    </tr>\n",
              "    <tr>\n",
              "      <th>1</th>\n",
              "      <td>2</td>\n",
              "      <td>1922.81</td>\n",
              "      <td>3</td>\n",
              "    </tr>\n",
              "    <tr>\n",
              "      <th>2</th>\n",
              "      <td>3</td>\n",
              "      <td>6525.42</td>\n",
              "      <td>8</td>\n",
              "    </tr>\n",
              "    <tr>\n",
              "      <th>3</th>\n",
              "      <td>4</td>\n",
              "      <td>827.15</td>\n",
              "      <td>2</td>\n",
              "    </tr>\n",
              "    <tr>\n",
              "      <th>4</th>\n",
              "      <td>5</td>\n",
              "      <td>3508.26</td>\n",
              "      <td>6</td>\n",
              "    </tr>\n",
              "  </tbody>\n",
              "</table>\n",
              "</div>"
            ],
            "text/plain": [
              "   customer_id  standard_cost_x  standard_cost_y\n",
              "0            1          6066.36               11\n",
              "1            2          1922.81                3\n",
              "2            3          6525.42                8\n",
              "3            4           827.15                2\n",
              "4            5          3508.26                6"
            ]
          },
          "metadata": {},
          "execution_count": 93
        }
      ]
    },
    {
      "cell_type": "code",
      "metadata": {
        "id": "dxpytAf9PpYH"
      },
      "source": [
        "customer_spending[\"customer_spending_rate\"] = round(customer_spending.standard_cost_x / customer_spending.standard_cost_y , 2)"
      ],
      "execution_count": null,
      "outputs": []
    },
    {
      "cell_type": "code",
      "metadata": {
        "colab": {
          "base_uri": "https://localhost:8080/"
        },
        "id": "1n6n8o0ZP6Gf",
        "outputId": "fe53e31b-f9ce-4369-9ea7-01028a32f400"
      },
      "source": [
        "customer_spending.drop([\"standard_cost_y\", \"standard_cost_x\"], axis = 1, inplace = True)\n",
        "customer_spending.info()"
      ],
      "execution_count": null,
      "outputs": [
        {
          "output_type": "stream",
          "text": [
            "<class 'pandas.core.frame.DataFrame'>\n",
            "Int64Index: 3493 entries, 0 to 3492\n",
            "Data columns (total 2 columns):\n",
            " #   Column                  Non-Null Count  Dtype  \n",
            "---  ------                  --------------  -----  \n",
            " 0   customer_id             3493 non-null   int64  \n",
            " 1   customer_spending_rate  3493 non-null   float64\n",
            "dtypes: float64(1), int64(1)\n",
            "memory usage: 81.9 KB\n"
          ],
          "name": "stdout"
        }
      ]
    },
    {
      "cell_type": "code",
      "metadata": {
        "colab": {
          "base_uri": "https://localhost:8080/"
        },
        "id": "jKkHkCb7QE4b",
        "outputId": "f3abbb5d-803f-4497-bac1-1d3c5aaef90d"
      },
      "source": [
        "demograph_analysis_draft = customer_demograph_plus_address.merge(customer_spending, on= 'customer_id')\n",
        "demograph_analysis_draft.info()"
      ],
      "execution_count": null,
      "outputs": [
        {
          "output_type": "stream",
          "text": [
            "<class 'pandas.core.frame.DataFrame'>\n",
            "Int64Index: 3411 entries, 0 to 3410\n",
            "Data columns (total 13 columns):\n",
            " #   Column                               Non-Null Count  Dtype  \n",
            "---  ------                               --------------  -----  \n",
            " 0   customer_id                          3411 non-null   int64  \n",
            " 1   gender                               3411 non-null   object \n",
            " 2   past_3_years_bike_related_purchases  3411 non-null   int64  \n",
            " 3   job_industry_category                3411 non-null   object \n",
            " 4   wealth_segment                       3411 non-null   object \n",
            " 5   deceased_indicator                   3411 non-null   object \n",
            " 6   owns_car                             3411 non-null   object \n",
            " 7   tenure                               3411 non-null   float64\n",
            " 8   customer_age                         3411 non-null   float64\n",
            " 9   postcode                             3411 non-null   object \n",
            " 10  state                                3411 non-null   object \n",
            " 11  property_valuation                   3411 non-null   int64  \n",
            " 12  customer_spending_rate               3411 non-null   float64\n",
            "dtypes: float64(3), int64(3), object(7)\n",
            "memory usage: 373.1+ KB\n"
          ],
          "name": "stdout"
        }
      ]
    },
    {
      "cell_type": "code",
      "metadata": {
        "colab": {
          "base_uri": "https://localhost:8080/"
        },
        "id": "dL_50HuUQXNg",
        "outputId": "556bccb7-a24c-4066-f2d1-e60be3c135c5"
      },
      "source": [
        "demograph_analysis_draft.customer_id.duplicated().sum()"
      ],
      "execution_count": null,
      "outputs": [
        {
          "output_type": "execute_result",
          "data": {
            "text/plain": [
              "0"
            ]
          },
          "metadata": {},
          "execution_count": 101
        }
      ]
    },
    {
      "cell_type": "code",
      "metadata": {
        "colab": {
          "base_uri": "https://localhost:8080/"
        },
        "id": "B58_ZOZCQs1h",
        "outputId": "bb5d869d-73d1-4763-ee86-437c0b482034"
      },
      "source": [
        "for cat_col in demograph_analysis_draft.select_dtypes(include = object).columns: \n",
        "    print(f\"Uniques in       {cat_col}    :      {demograph_analysis_draft[cat_col].unique()}\")"
      ],
      "execution_count": null,
      "outputs": [
        {
          "output_type": "stream",
          "text": [
            "Uniques in       gender    :      ['Male' 'Female']\n",
            "Uniques in       job_industry_category    :      ['Retail' 'Property' 'Manufacturing' 'Health' 'IT' 'Entertainment'\n",
            " 'Financial Services' 'Argiculture' 'Telecommunications']\n",
            "Uniques in       wealth_segment    :      ['Affluent Customer' 'Mass Customer' 'High Net Worth']\n",
            "Uniques in       deceased_indicator    :      ['N' 'Y']\n",
            "Uniques in       owns_car    :      ['No' 'Yes']\n",
            "Uniques in       postcode    :      ['2000' '3300' '3100' '3000' '2200' '2100' '4800' '3400' '3200' '4000'\n",
            " '4700' '2600' '2500' '4300' '4600' '3600' '4200' '4400' '4500' '3900'\n",
            " '2300' '3800' '2700' '2800' '3700' '2400' '4100' '2900' '4900' '3500']\n",
            "Uniques in       state    :      ['NSW' 'VIC' 'QLD']\n"
          ],
          "name": "stdout"
        }
      ]
    },
    {
      "cell_type": "code",
      "metadata": {
        "colab": {
          "base_uri": "https://localhost:8080/"
        },
        "id": "Ej_B5nxeQ94m",
        "outputId": "03c92b4b-b820-4d5d-fba4-94cb714d1f46"
      },
      "source": [
        "interest_numeric_col = demograph_analysis_draft.loc[:,\"gender\":].select_dtypes(exclude = object).columns\n",
        "interest_numeric_col"
      ],
      "execution_count": null,
      "outputs": [
        {
          "output_type": "execute_result",
          "data": {
            "text/plain": [
              "Index(['past_3_years_bike_related_purchases', 'tenure', 'customer_age',\n",
              "       'property_valuation', 'customer_spending_rate'],\n",
              "      dtype='object')"
            ]
          },
          "metadata": {},
          "execution_count": 117
        }
      ]
    },
    {
      "cell_type": "code",
      "metadata": {
        "colab": {
          "base_uri": "https://localhost:8080/",
          "height": 336
        },
        "id": "ODYDje-aRjCO",
        "outputId": "1f45f646-ace4-490a-c96a-57f4b08894a7"
      },
      "source": [
        "fig, axe = plt.subplots(1, len(interest_numeric_col), figsize = (15, 5))\n",
        "for i, nu_col in enumerate(interest_numeric_col):\n",
        "    sns.boxplot(data = demograph_analysis_draft[nu_col], ax = axe[i]).set_title(nu_col)"
      ],
      "execution_count": null,
      "outputs": [
        {
          "output_type": "display_data",
          "data": {
            "image/png": "[encoded data removed]",
            "text/plain": [
              "<Figure size 1080x360 with 5 Axes>"
            ]
          },
          "metadata": {
            "needs_background": "light"
          }
        }
      ]
    },
    {
      "cell_type": "code",
      "metadata": {
        "colab": {
          "base_uri": "https://localhost:8080/",
          "height": 386
        },
        "id": "dHvhatKiT9C9",
        "outputId": "5cc496a4-beeb-4981-b5c2-9d9737a2903e"
      },
      "source": [
        "sns.displot(demograph_analysis_draft.customer_spending_rate, kde= True)"
      ],
      "execution_count": null,
      "outputs": [
        {
          "output_type": "execute_result",
          "data": {
            "text/plain": [
              "<seaborn.axisgrid.FacetGrid at 0x7f57acd08290>"
            ]
          },
          "metadata": {},
          "execution_count": 135
        },
        {
          "output_type": "display_data",
          "data": {
            "image/png": "[encoded data removed]",
            "text/plain": [
              "<Figure size 360x360 with 1 Axes>"
            ]
          },
          "metadata": {
            "needs_background": "light"
          }
        }
      ]
    },
    {
      "cell_type": "code",
      "metadata": {
        "colab": {
          "base_uri": "https://localhost:8080/"
        },
        "id": "X4nxJVHtUegY",
        "outputId": "82691fad-85b8-4772-8476-94758f1a824e"
      },
      "source": [
        "print(f\"Percentage of customer spending over average : {round(100 * demograph_analysis_draft[demograph_analysis_draft.customer_spending_rate > 600].count()[0]/demograph_analysis_draft.count()[0], 2)}\")"
      ],
      "execution_count": null,
      "outputs": [
        {
          "output_type": "stream",
          "text": [
            "Percentage of customer spending over average : 37.88\n"
          ],
          "name": "stdout"
        }
      ]
    },
    {
      "cell_type": "code",
      "metadata": {
        "colab": {
          "base_uri": "https://localhost:8080/"
        },
        "id": "6VvWhheJVtzf",
        "outputId": "cc6ce5c8-2015-4913-9e2c-96680e206063"
      },
      "source": [
        "demograph_analysis_draft.info()"
      ],
      "execution_count": null,
      "outputs": [
        {
          "output_type": "stream",
          "text": [
            "<class 'pandas.core.frame.DataFrame'>\n",
            "Int64Index: 3411 entries, 0 to 3410\n",
            "Data columns (total 13 columns):\n",
            " #   Column                               Non-Null Count  Dtype  \n",
            "---  ------                               --------------  -----  \n",
            " 0   customer_id                          3411 non-null   int64  \n",
            " 1   gender                               3411 non-null   object \n",
            " 2   past_3_years_bike_related_purchases  3411 non-null   int64  \n",
            " 3   job_industry_category                3411 non-null   object \n",
            " 4   wealth_segment                       3411 non-null   object \n",
            " 5   deceased_indicator                   3411 non-null   object \n",
            " 6   owns_car                             3411 non-null   object \n",
            " 7   tenure                               3411 non-null   float64\n",
            " 8   customer_age                         3411 non-null   float64\n",
            " 9   postcode                             3411 non-null   object \n",
            " 10  state                                3411 non-null   object \n",
            " 11  property_valuation                   3411 non-null   int64  \n",
            " 12  customer_spending_rate               3411 non-null   float64\n",
            "dtypes: float64(3), int64(3), object(7)\n",
            "memory usage: 533.1+ KB\n"
          ],
          "name": "stdout"
        }
      ]
    },
    {
      "cell_type": "code",
      "metadata": {
        "colab": {
          "base_uri": "https://localhost:8080/",
          "height": 447
        },
        "id": "czwFxaI_X5g8",
        "outputId": "eda15b43-e9a7-4d56-d542-a0769770f8dd"
      },
      "source": [
        "corrMatrix = demograph_analysis_draft[[\"past_3_years_bike_related_purchases\", \"tenure\", \"customer_age\", \"property_valuation\", \"customer_spending_rate\"]].corr()\n",
        "\n",
        "sns.heatmap(corrMatrix, annot = True)\n",
        "\n",
        "plt.show()"
      ],
      "execution_count": null,
      "outputs": [
        {
          "output_type": "display_data",
          "data": {
            "image/png": "[encoded data removed]",
            "text/plain": [
              "<Figure size 432x288 with 2 Axes>"
            ]
          },
          "metadata": {
            "needs_background": "light"
          }
        }
      ]
    },
    {
      "cell_type": "code",
      "metadata": {
        "colab": {
          "base_uri": "https://localhost:8080/"
        },
        "id": "Bp9Ee5JcY_EO",
        "outputId": "942de18f-1e19-41e9-b9ba-0dbe22b3c80c"
      },
      "source": [
        "limit = int(demograph_analysis_draft.customer_spending_rate.mean())\n",
        "\n",
        "high_value = []\n",
        "\n",
        "for rate in demograph_analysis_draft.customer_spending_rate:\n",
        "    if rate > limit:\n",
        "        high_value.append(\"y\")\n",
        "    else:\n",
        "        high_value.append(\"n\")\n",
        "\n",
        "demograph_analysis_draft[\"high_value\"] = high_value\n",
        "\n",
        "demograph_analysis_draft.drop(\"customer_spending_rate\", axis = 1, inplace=True)\n",
        "\n",
        "demograph_analysis_draft.info()\n"
      ],
      "execution_count": null,
      "outputs": [
        {
          "output_type": "stream",
          "text": [
            "<class 'pandas.core.frame.DataFrame'>\n",
            "Int64Index: 3411 entries, 0 to 3410\n",
            "Data columns (total 13 columns):\n",
            " #   Column                               Non-Null Count  Dtype  \n",
            "---  ------                               --------------  -----  \n",
            " 0   customer_id                          3411 non-null   int64  \n",
            " 1   gender                               3411 non-null   object \n",
            " 2   past_3_years_bike_related_purchases  3411 non-null   int64  \n",
            " 3   job_industry_category                3411 non-null   object \n",
            " 4   wealth_segment                       3411 non-null   object \n",
            " 5   deceased_indicator                   3411 non-null   object \n",
            " 6   owns_car                             3411 non-null   object \n",
            " 7   tenure                               3411 non-null   float64\n",
            " 8   customer_age                         3411 non-null   float64\n",
            " 9   postcode                             3411 non-null   object \n",
            " 10  state                                3411 non-null   object \n",
            " 11  property_valuation                   3411 non-null   int64  \n",
            " 12  high_value                           3411 non-null   object \n",
            "dtypes: float64(2), int64(3), object(8)\n",
            "memory usage: 533.1+ KB\n"
          ],
          "name": "stdout"
        }
      ]
    },
    {
      "cell_type": "code",
      "metadata": {
        "colab": {
          "base_uri": "https://localhost:8080/"
        },
        "id": "NRJfIE7UbEGo",
        "outputId": "9bfa23ea-efba-4428-d604-ea01dc211431"
      },
      "source": [
        "demograph_analysis = demograph_analysis_draft.loc[:, \"gender\":]\n",
        "demograph_analysis.info()"
      ],
      "execution_count": null,
      "outputs": [
        {
          "output_type": "stream",
          "text": [
            "<class 'pandas.core.frame.DataFrame'>\n",
            "Int64Index: 3411 entries, 0 to 3410\n",
            "Data columns (total 12 columns):\n",
            " #   Column                               Non-Null Count  Dtype  \n",
            "---  ------                               --------------  -----  \n",
            " 0   gender                               3411 non-null   object \n",
            " 1   past_3_years_bike_related_purchases  3411 non-null   int64  \n",
            " 2   job_industry_category                3411 non-null   object \n",
            " 3   wealth_segment                       3411 non-null   object \n",
            " 4   deceased_indicator                   3411 non-null   object \n",
            " 5   owns_car                             3411 non-null   object \n",
            " 6   tenure                               3411 non-null   float64\n",
            " 7   customer_age                         3411 non-null   float64\n",
            " 8   postcode                             3411 non-null   object \n",
            " 9   state                                3411 non-null   object \n",
            " 10  property_valuation                   3411 non-null   int64  \n",
            " 11  high_value                           3411 non-null   object \n",
            "dtypes: float64(2), int64(2), object(8)\n",
            "memory usage: 506.4+ KB\n"
          ],
          "name": "stdout"
        }
      ]
    },
    {
      "cell_type": "code",
      "metadata": {
        "colab": {
          "base_uri": "https://localhost:8080/",
          "height": 336
        },
        "id": "k1jE0BonbW5j",
        "outputId": "97963883-7a6f-4ca3-e31d-117406e691a5"
      },
      "source": [
        "interest_numeric_col = demograph_analysis.select_dtypes(exclude = object).columns\n",
        "\n",
        "fig, axe = plt.subplots(1, len(interest_numeric_col), figsize = (15, 5))\n",
        "for i, nu_col in enumerate(interest_numeric_col):\n",
        "    sns.boxplot(data = demograph_analysis[nu_col], ax = axe[i]).set_title(nu_col)\n"
      ],
      "execution_count": null,
      "outputs": [
        {
          "output_type": "display_data",
          "data": {
            "image/png": "[encoded data removed]",
            "text/plain": [
              "<Figure size 1080x360 with 4 Axes>"
            ]
          },
          "metadata": {
            "needs_background": "light"
          }
        }
      ]
    },
    {
      "cell_type": "code",
      "metadata": {
        "colab": {
          "base_uri": "https://localhost:8080/"
        },
        "id": "juzS0aJnbv_N",
        "outputId": "0a2031cf-2677-4632-a82a-9e84bb779e9f"
      },
      "source": [
        "for cat_col in demograph_analysis.select_dtypes(include = object).columns: \n",
        "    print(f\"Uniques in       {cat_col}    :      {demograph_analysis[cat_col].unique()}\")"
      ],
      "execution_count": null,
      "outputs": [
        {
          "output_type": "stream",
          "text": [
            "Uniques in       gender    :      ['Male' 'Female']\n",
            "Uniques in       job_industry_category    :      ['Retail' 'Property' 'Manufacturing' 'Health' 'IT' 'Entertainment'\n",
            " 'Financial Services' 'Argiculture' 'Telecommunications']\n",
            "Uniques in       wealth_segment    :      ['Affluent Customer' 'Mass Customer' 'High Net Worth']\n",
            "Uniques in       deceased_indicator    :      ['N' 'Y']\n",
            "Uniques in       owns_car    :      ['No' 'Yes']\n",
            "Uniques in       postcode    :      ['2000' '3300' '3100' '3000' '2200' '2100' '4800' '3400' '3200' '4000'\n",
            " '4700' '2600' '2500' '4300' '4600' '3600' '4200' '4400' '4500' '3900'\n",
            " '2300' '3800' '2700' '2800' '3700' '2400' '4100' '2900' '4900' '3500']\n",
            "Uniques in       state    :      ['NSW' 'VIC' 'QLD']\n",
            "Uniques in       high_value    :      ['y' 'n']\n"
          ],
          "name": "stdout"
        }
      ]
    },
    {
      "cell_type": "code",
      "metadata": {
        "id": "YqwSTTmsb4_X"
      },
      "source": [
        "demograph_analysis.to_csv(\"customer_segmenting_train.csv\", index = False)"
      ],
      "execution_count": null,
      "outputs": []
    },
    {
      "cell_type": "code",
      "metadata": {
        "id": "YZHZlwmLcdQS"
      },
      "source": [
        "!cp /content/customer_segmenting_train.csv /content/drive/MyDrive"
      ],
      "execution_count": null,
      "outputs": []
    },
    {
      "cell_type": "code",
      "metadata": {
        "colab": {
          "base_uri": "https://localhost:8080/"
        },
        "id": "2jMkpxVyciqY",
        "outputId": "d4cafcff-2361-4223-bc51-b2519600a216"
      },
      "source": [
        "focused_col = demograph_analysis.columns[:-1]"
      ],
      "execution_count": null,
      "outputs": [
        {
          "output_type": "execute_result",
          "data": {
            "text/plain": [
              "Index(['gender', 'past_3_years_bike_related_purchases',\n",
              "       'job_industry_category', 'wealth_segment', 'deceased_indicator',\n",
              "       'owns_car', 'tenure', 'customer_age', 'postcode', 'state',\n",
              "       'property_valuation'],\n",
              "      dtype='object')"
            ]
          },
          "metadata": {},
          "execution_count": 146
        }
      ]
    },
    {
      "cell_type": "code",
      "metadata": {
        "id": "zPJCRiGHdCha"
      },
      "source": [
        "new_customer_list[\"customer_age\"] = 2021.0 - new_customer_list.DOB.dt.year"
      ],
      "execution_count": null,
      "outputs": []
    },
    {
      "cell_type": "code",
      "metadata": {
        "id": "W3mXoMXzdIKP"
      },
      "source": [
        "new_customer_list = new_customer_list[focused_col]"
      ],
      "execution_count": null,
      "outputs": []
    },
    {
      "cell_type": "code",
      "metadata": {
        "colab": {
          "base_uri": "https://localhost:8080/"
        },
        "id": "-Iv0-ONJdddI",
        "outputId": "8c3d3890-0814-4ff4-a4c2-c706d545f254"
      },
      "source": [
        "new_customer_list.info()"
      ],
      "execution_count": null,
      "outputs": [
        {
          "output_type": "stream",
          "text": [
            "<class 'pandas.core.frame.DataFrame'>\n",
            "RangeIndex: 1000 entries, 0 to 999\n",
            "Data columns (total 11 columns):\n",
            " #   Column                               Non-Null Count  Dtype  \n",
            "---  ------                               --------------  -----  \n",
            " 0   gender                               1000 non-null   object \n",
            " 1   past_3_years_bike_related_purchases  1000 non-null   int64  \n",
            " 2   job_industry_category                835 non-null    object \n",
            " 3   wealth_segment                       1000 non-null   object \n",
            " 4   deceased_indicator                   1000 non-null   object \n",
            " 5   owns_car                             1000 non-null   object \n",
            " 6   tenure                               1000 non-null   int64  \n",
            " 7   customer_age                         983 non-null    float64\n",
            " 8   postcode                             1000 non-null   int64  \n",
            " 9   state                                1000 non-null   object \n",
            " 10  property_valuation                   1000 non-null   int64  \n",
            "dtypes: float64(1), int64(4), object(6)\n",
            "memory usage: 86.1+ KB\n"
          ],
          "name": "stdout"
        }
      ]
    },
    {
      "cell_type": "code",
      "metadata": {
        "id": "bgpP5VWQdhZx"
      },
      "source": [
        "postcode_generalized = []\n",
        "for postcode in new_customer_list.postcode:\n",
        "    post_code = round(postcode, -2)\n",
        "    postcode_generalized.append(post_code)\n",
        "\n",
        "new_customer_list[\"postcode\"] = postcode_generalized\n",
        "new_customer_list[\"postcode\"] = new_customer_list.postcode.astype(str)"
      ],
      "execution_count": null,
      "outputs": []
    },
    {
      "cell_type": "code",
      "metadata": {
        "id": "ZJy-pccod9Hp"
      },
      "source": [
        "new_customer_list = new_customer_list.dropna()"
      ],
      "execution_count": null,
      "outputs": []
    },
    {
      "cell_type": "code",
      "metadata": {
        "colab": {
          "base_uri": "https://localhost:8080/"
        },
        "id": "2EI2o5Q9eDMR",
        "outputId": "c53d1880-60e0-4ca7-a7c3-88d0d1929d0e"
      },
      "source": [
        "new_customer_list.info()"
      ],
      "execution_count": null,
      "outputs": [
        {
          "output_type": "stream",
          "text": [
            "<class 'pandas.core.frame.DataFrame'>\n",
            "Int64Index: 818 entries, 0 to 999\n",
            "Data columns (total 11 columns):\n",
            " #   Column                               Non-Null Count  Dtype  \n",
            "---  ------                               --------------  -----  \n",
            " 0   gender                               818 non-null    object \n",
            " 1   past_3_years_bike_related_purchases  818 non-null    int64  \n",
            " 2   job_industry_category                818 non-null    object \n",
            " 3   wealth_segment                       818 non-null    object \n",
            " 4   deceased_indicator                   818 non-null    object \n",
            " 5   owns_car                             818 non-null    object \n",
            " 6   tenure                               818 non-null    int64  \n",
            " 7   customer_age                         818 non-null    float64\n",
            " 8   postcode                             818 non-null    object \n",
            " 9   state                                818 non-null    object \n",
            " 10  property_valuation                   818 non-null    int64  \n",
            "dtypes: float64(1), int64(3), object(7)\n",
            "memory usage: 76.7+ KB\n"
          ],
          "name": "stdout"
        }
      ]
    },
    {
      "cell_type": "code",
      "metadata": {
        "colab": {
          "base_uri": "https://localhost:8080/"
        },
        "id": "8agXU2NIeJq6",
        "outputId": "3fb471cc-b480-4d81-8b96-260465c6356d"
      },
      "source": [
        "for cat_col in new_customer_list.select_dtypes(include = object).columns: \n",
        "    print(f\"Uniques in       {cat_col}    :      {new_customer_list[cat_col].unique()}\")"
      ],
      "execution_count": null,
      "outputs": [
        {
          "output_type": "stream",
          "text": [
            "Uniques in       gender    :      ['Male' 'Female']\n",
            "Uniques in       job_industry_category    :      ['Manufacturing' 'Property' 'Financial Services' 'Entertainment' 'Retail'\n",
            " 'IT' 'Telecommunications' 'Health' 'Argiculture']\n",
            "Uniques in       wealth_segment    :      ['Mass Customer' 'Affluent Customer' 'High Net Worth']\n",
            "Uniques in       deceased_indicator    :      ['N']\n",
            "Uniques in       owns_car    :      ['Yes' 'No']\n",
            "Uniques in       postcode    :      ['4500' '2100' '3500' '4800' '4100' '2600' '2200' '4200' '4600' '3200'\n",
            " '2000' '2500' '3000' '2800' '4700' '4000' '3100' '2300' '3300' '4900'\n",
            " '3700' '3800' '3400' '2400' '3900' '4400' '4300' '2700' '3600' '2900']\n",
            "Uniques in       state    :      ['QLD' 'NSW' 'VIC']\n"
          ],
          "name": "stdout"
        }
      ]
    },
    {
      "cell_type": "code",
      "metadata": {
        "colab": {
          "base_uri": "https://localhost:8080/",
          "height": 336
        },
        "id": "Yd-TfQlGeS4Y",
        "outputId": "bb346a24-0f09-477a-fd53-574753b87dc6"
      },
      "source": [
        "interest_numeric_col = new_customer_list.select_dtypes(exclude = object).columns\n",
        "\n",
        "fig, axe = plt.subplots(1, len(interest_numeric_col), figsize = (15, 5))\n",
        "for i, nu_col in enumerate(interest_numeric_col):\n",
        "    sns.boxplot(data = new_customer_list[nu_col], ax = axe[i]).set_title(nu_col)"
      ],
      "execution_count": null,
      "outputs": [
        {
          "output_type": "display_data",
          "data": {
            "image/png": "[encoded data removed]",
            "text/plain": [
              "<Figure size 1080x360 with 4 Axes>"
            ]
          },
          "metadata": {
            "needs_background": "light"
          }
        }
      ]
    },
    {
      "cell_type": "code",
      "metadata": {
        "colab": {
          "base_uri": "https://localhost:8080/"
        },
        "id": "UnbjDwKme7lp",
        "outputId": "774d90f2-b0ab-4394-8096-0699117c7926"
      },
      "source": [
        "print(len(demograph_analysis.columns))\n",
        "print(len(new_customer_list.columns))"
      ],
      "execution_count": null,
      "outputs": [
        {
          "output_type": "stream",
          "text": [
            "12\n",
            "11\n"
          ],
          "name": "stdout"
        }
      ]
    },
    {
      "cell_type": "code",
      "metadata": {
        "colab": {
          "base_uri": "https://localhost:8080/"
        },
        "id": "bTn7xJp5fULf",
        "outputId": "8dc89dc0-5532-47ed-ed5d-ada346a5ceab"
      },
      "source": [
        "print(demograph_analysis.columns)\n",
        "print(new_customer_list.columns)"
      ],
      "execution_count": null,
      "outputs": [
        {
          "output_type": "stream",
          "text": [
            "Index(['gender', 'past_3_years_bike_related_purchases',\n",
            "       'job_industry_category', 'wealth_segment', 'deceased_indicator',\n",
            "       'owns_car', 'tenure', 'customer_age', 'postcode', 'state',\n",
            "       'property_valuation', 'high_value'],\n",
            "      dtype='object')\n",
            "Index(['gender', 'past_3_years_bike_related_purchases',\n",
            "       'job_industry_category', 'wealth_segment', 'deceased_indicator',\n",
            "       'owns_car', 'tenure', 'customer_age', 'postcode', 'state',\n",
            "       'property_valuation'],\n",
            "      dtype='object')\n"
          ],
          "name": "stdout"
        }
      ]
    },
    {
      "cell_type": "code",
      "metadata": {
        "id": "MW2MWZiPfirW"
      },
      "source": [
        "new_customer_list.to_csv(\"customer_segmenting_test.csv\", index = False)"
      ],
      "execution_count": null,
      "outputs": []
    },
    {
      "cell_type": "code",
      "metadata": {
        "id": "pUjTr9QPgGkQ"
      },
      "source": [
        "!cp /content/customer_segmenting_test.csv /content/drive/MyDrive"
      ],
      "execution_count": null,
      "outputs": []
    },
    {
      "cell_type": "code",
      "metadata": {
        "colab": {
          "base_uri": "https://localhost:8080/"
        },
        "id": "2Y5QPz6FgPem",
        "outputId": "b9044829-5c53-418a-fb9a-dbe16f477f1c"
      },
      "source": [
        "for cat_col_train, cat_col_test in zip(demograph_analysis.select_dtypes(include = object).columns, new_customer_list.select_dtypes(include = object).columns): \n",
        "    if sorted(list(new_customer_list[cat_col_test].unique())) == sorted(list(demograph_analysis[cat_col_train].unique())):\n",
        "        print(f\"{cat_col_train} -----> Matched\")\n",
        "    else: \n",
        "        print(f\"{cat_col_train} ------> Not Matched.\")"
      ],
      "execution_count": null,
      "outputs": [
        {
          "output_type": "stream",
          "text": [
            "gender -----> Matched\n",
            "job_industry_category -----> Matched\n",
            "wealth_segment -----> Matched\n",
            "deceased_indicator ------> Not Matched.\n",
            "owns_car -----> Matched\n",
            "postcode -----> Matched\n",
            "state -----> Matched\n"
          ],
          "name": "stdout"
        }
      ]
    },
    {
      "cell_type": "code",
      "metadata": {
        "id": "WXePUaI9hkZf"
      },
      "source": [
        ""
      ],
      "execution_count": null,
      "outputs": []
    }
  ]
}